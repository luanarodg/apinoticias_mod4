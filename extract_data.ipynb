{
 "cells": [
  {
   "cell_type": "markdown",
   "metadata": {},
   "source": [
    "O objetivo dessa projeto é criar uma API que extrai dados de nóticias através da News API [https://newsapi.org/](https://newsapi.org/), e a partir disso transformar esses dados para consumo final.\n",
    "\n",
    "Esse projeto é composto pelos seguintes arquivos:\n",
    "\n",
    "- **extract_data.ipynb** - presente arquivo que contém todos os códigos reunidos.\n",
    "- **app.py** - script com Flask API que gera o ambiente para consumo dos dados.\n",
    "- **data/**\n",
    "  - **api_extract.csv** - arquivo com as notícias extraídas da News API;\n",
    "  - **articles_relevance.csv** - arquivo com relevância dos artigos;\n",
    "  - **keyword_counts.csv** - arquivo com a quantidade de vezes que cada palavra-chave aparece;\n",
    "  - **news_data.csv** - arquivo de dados de notícias;\n",
    "  - **news_per_date.csv** - arquivo com a quantidade de notícias por ano, mês e dia de publicação;\n",
    "  - **news_per_source_author.csv** - arquivo com a quantidade de notícias por fonte e autor."
   ]
  },
  {
   "cell_type": "markdown",
   "metadata": {},
   "source": [
    "Para a criação desse trabalho foi preciso desenvolver alguns critérios para a extração. Onde foram escolhidas três palavras-chave para filtrar as notícias, sendo elas **\"DNA sequencing\", \"gene therapy\" e \"genetic diseases\"**. E com o script de extração feito, as notícias extraídas são armazenadas em formato raw em um csv, para posteriormente ocorrer uma transformação dos dados e consequentemente a disponibilidade para consumo.\n",
    "\n",
    "A extração ocorre a cada 1 hora onde apenas notícias novas são adicionadas ao arquivo e, se alguma notícia já estiver armazenada, ela não é adicionada novamente, evitando duplicação."
   ]
  },
  {
   "cell_type": "markdown",
   "metadata": {},
   "source": [
    "## Extração da News API"
   ]
  },
  {
   "cell_type": "code",
   "execution_count": 2,
   "metadata": {},
   "outputs": [
    {
     "name": "stdout",
     "output_type": "stream",
     "text": [
      "Notícias atualizadas com sucesso.\n",
      "Notícias atualizadas com sucesso.\n",
      "Notícias atualizadas com sucesso.\n",
      "Notícias atualizadas com sucesso.\n"
     ]
    },
    {
     "ename": "KeyboardInterrupt",
     "evalue": "",
     "output_type": "error",
     "traceback": [
      "\u001b[0;31m---------------------------------------------------------------------------\u001b[0m",
      "\u001b[0;31mKeyboardInterrupt\u001b[0m                         Traceback (most recent call last)",
      "Cell \u001b[0;32mIn[2], line 55\u001b[0m\n\u001b[1;32m     51\u001b[0m         update_news()\n\u001b[1;32m     54\u001b[0m \u001b[38;5;28;01mif\u001b[39;00m \u001b[38;5;18m__name__\u001b[39m \u001b[38;5;241m==\u001b[39m \u001b[38;5;124m\"\u001b[39m\u001b[38;5;124m__main__\u001b[39m\u001b[38;5;124m\"\u001b[39m:\n\u001b[0;32m---> 55\u001b[0m     \u001b[43mmain\u001b[49m\u001b[43m(\u001b[49m\u001b[43m)\u001b[49m\n",
      "Cell \u001b[0;32mIn[2], line 50\u001b[0m, in \u001b[0;36mmain\u001b[0;34m()\u001b[0m\n\u001b[1;32m     47\u001b[0m update_news()\n\u001b[1;32m     49\u001b[0m \u001b[38;5;28;01mwhile\u001b[39;00m \u001b[38;5;28;01mTrue\u001b[39;00m:\n\u001b[0;32m---> 50\u001b[0m     \u001b[43mtime\u001b[49m\u001b[38;5;241;43m.\u001b[39;49m\u001b[43msleep\u001b[49m\u001b[43m(\u001b[49m\u001b[38;5;241;43m20\u001b[39;49m\u001b[43m)\u001b[49m \u001b[38;5;66;03m# Atualização a cada 3600 segundos (=1 hora)\u001b[39;00m\n\u001b[1;32m     51\u001b[0m     update_news()\n",
      "\u001b[0;31mKeyboardInterrupt\u001b[0m: "
     ]
    }
   ],
   "source": [
    "import requests\n",
    "import pandas as pd\n",
    "from pandas import json_normalize\n",
    "import time\n",
    "\n",
    "\n",
    "def fetch_news(api_key, topic):\n",
    "    url = f\"https://newsapi.org/v2/everything?q={topic}&apiKey={api_key}\"\n",
    "\n",
    "    response = requests.get(url)\n",
    "\n",
    "    if response.status_code == 200:\n",
    "        data = response.json()\n",
    "        articles = data['articles']\n",
    "        return articles\n",
    "    else:\n",
    "        print(\"Erro ao fazer a solicitação:\", response.status_code)\n",
    "        return None\n",
    "\n",
    "\n",
    "def update_news():\n",
    "    api_key = \"187be6640acc439db24e18a27eb1ad87\"\n",
    "    topics = [\"DNA sequencing\", \"gene therapy\", \"genetic diseases\"]  # Define palavras-chave\n",
    "\n",
    "    all_articles = []\n",
    "    \n",
    "    for topic in topics:\n",
    "        articles = fetch_news(api_key, topic)\n",
    "        if articles:\n",
    "            all_articles.extend(articles)\n",
    "\n",
    "    if all_articles:\n",
    "        df = json_normalize(all_articles)\n",
    "        # Adiciona uma coluna de id e reorganiza as colunas\n",
    "        df['id'] = range(1, len(df) + 1)\n",
    "        cols = df.columns.tolist()\n",
    "        cols = ['id'] + [col for col in cols if col != 'id']\n",
    "        df = df[cols]\n",
    "        \n",
    "        df.to_csv(\"data/api_extract.csv\", index=False)\n",
    "        print(\"Notícias atualizadas com sucesso.\")\n",
    "    else:\n",
    "        print(\"Não há novas notícias para adicionar.\")\n",
    "\n",
    "\n",
    "def main():\n",
    "    update_news()\n",
    "\n",
    "    while True:\n",
    "        time.sleep(3600) # Atualização a cada 3600 segundos (=1 hora)\n",
    "        update_news()\n",
    "\n",
    "\n",
    "if __name__ == \"__main__\":\n",
    "    main()\n"
   ]
  },
  {
   "cell_type": "markdown",
   "metadata": {},
   "source": [
    "### Dados transformados para consulta do público final\n",
    "\n",
    "Para essa parte do projeto, são criados novos arquivos csv com os dados extraídos da API de notícias que são transformados, para que assim, possam ser consumidos na API final."
   ]
  },
  {
   "cell_type": "code",
   "execution_count": 3,
   "metadata": {},
   "outputs": [],
   "source": [
    "# Quantidade de notícias por ano, mês e dia de publicação\n",
    "import pandas as pd\n",
    "\n",
    "df = pd.read_csv(\"data/api_extract.csv\")\n",
    "\n",
    "df['publishedAt'] = pd.to_datetime(df['publishedAt'])\n",
    "df['year'] = df['publishedAt'].dt.year\n",
    "df['month'] = df['publishedAt'].dt.month\n",
    "df['day'] = df['publishedAt'].dt.day\n",
    "news_per_date = df.groupby(['year', 'month', 'day']).size().reset_index(name='news_count')\n",
    "\n",
    "\n",
    "news_per_date.to_csv(\"data/news_per_date.csv\", index=False)"
   ]
  },
  {
   "cell_type": "code",
   "execution_count": 4,
   "metadata": {},
   "outputs": [],
   "source": [
    "# Quantidade de notícias por fonte e autor\n",
    "news_per_source_author = df.groupby(['source.name', 'author']).size().reset_index(name='news_count')\n",
    "\n",
    "news_per_source_author.to_csv(\"data/news_per_source_author.csv\", index=False)"
   ]
  },
  {
   "cell_type": "code",
   "execution_count": 5,
   "metadata": {},
   "outputs": [],
   "source": [
    "# Quantidade de aparições das 3 palavras-chave por ano, mês e dia de publicação definidas no item 2\n",
    "keywords = ['DNA sequencing', 'gene therapy', 'genetic diseases']\n",
    "\n",
    "def contains_keyword(title):\n",
    "    return any(keyword in title.lower() for keyword in keywords)\n",
    "\n",
    "for keyword in keywords:\n",
    "    df[keyword] = df['title'].apply(lambda x: 1 if contains_keyword(x) else 0)\n",
    "\n",
    "keyword_counts = df.groupby(['year', 'month', 'day'])[keywords].sum().reset_index()\n",
    "\n",
    "keyword_counts.to_csv(\"data/keyword_counts.csv\", index=False)"
   ]
  },
  {
   "cell_type": "markdown",
   "metadata": {},
   "source": [
    "## Flask API\n",
    "Após a geração de todos os dados, é preciso criar uma API para que o usuário final possa consultar tudo que foi gerado. Para isso, utilizamos Flask para disponibilizar as informações, onde cada página feita retorna uma função com o que foi pedido. Para está API foi feito um arquivo adicional chamado \"**index.html**\" dentro da página templates/ que contém um script básico feito para o front-end da API que facilita o direcionamento entre as páginas."
   ]
  },
  {
   "cell_type": "code",
   "execution_count": null,
   "metadata": {},
   "outputs": [],
   "source": [
    "from flask import Flask, jsonify, request, render_template\n",
    "import pandas as pd\n",
    "import random\n",
    "\n",
    "app = Flask(__name__)\n",
    "\n",
    "df_news = pd.read_csv(\"data/api_extract.csv\")\n",
    "df_news_per_source_author = pd.read_csv(\"data/news_per_source_author.csv\")\n",
    "df_keyword_counts = pd.read_csv(\"data/keyword_counts.csv\")\n",
    "\n",
    "\n",
    "# Home\n",
    "@app.route(\"/\", methods=[\"GET\"])\n",
    "def homepage():\n",
    "    return render_template('index.html')\n",
    "\n",
    "\n",
    "# Retornar todas as notícias\n",
    "@app.route(\"/api/news\", methods=[\"GET\"])\n",
    "def get_all_news():\n",
    "    return jsonify(df_news.to_dict(orient='records'))\n",
    "\n",
    "\n",
    "# Retornar notícia por id\n",
    "@app.route('/api/news/<int:id>', methods=['GET'])\n",
    "def get_news_by_id(id):\n",
    "    news = df_news.loc[df_news['id'] == id]\n",
    "    if len(news) == 0:\n",
    "        return \"Notícia não encontrada\", 404\n",
    "    return jsonify(news.to_dict(orient='records')[0])\n",
    "\n",
    "\n",
    "# Receber outras notícias que não foram mapeadas pela API original\n",
    "@app.route('/api/news', methods=['POST'])\n",
    "def add_new_news():\n",
    "    global df_news\n",
    "    new_news = request.json  \n",
    "    df_news = pd.concat([df_news, pd.DataFrame([new_news])], ignore_index=True) \n",
    "    df_news.to_csv(\"data/api_extract.csv\", index=False) \n",
    "    return jsonify({'message': 'Notícia adicionada com sucesso'}), 201\n",
    "\n",
    "\n",
    "# Retornar a quantidade de notícias por ano, mês e dia de publicação do item 4.1\n",
    "@app.route('/api/news/count_by_date', methods=['GET'])\n",
    "def get_news_count_by_date():\n",
    "    news_count_by_date = df_news.groupby(['publishedAt']).size().reset_index(name='news_count')\n",
    "    return jsonify(news_count_by_date.to_dict(orient='records'))\n",
    "\n",
    "\n",
    "# Retornar a quantidade de notícias por fonte e autor do item 4.2\n",
    "@app.route('/api/news/count_by_source_author', methods=['GET'])\n",
    "def get_news_count_by_source_author():\n",
    "    return jsonify(df_news_per_source_author.to_dict(orient='records'))\n",
    "\n",
    "\n",
    "# Retornar a quantidade de aparições das 3 palavras-chave por ano, mês e dia de publicação  do item 4.3\n",
    "@app.route('/api/news/count_by_keyword', methods=['GET'])\n",
    "def get_news_count_by_keyword():\n",
    "    return jsonify(df_keyword_counts.to_dict(orient='records'))\n",
    "\n",
    "\n",
    "if __name__ == '__main__':\n",
    "    app.run(debug=True)\n"
   ]
  },
  {
   "cell_type": "markdown",
   "metadata": {},
   "source": [
    "### Exemplo de como adicionar novas notícias"
   ]
  },
  {
   "cell_type": "code",
   "execution_count": 8,
   "metadata": {},
   "outputs": [],
   "source": [
    "# Receber outras notícias que não foram mapeadas pela API original\n",
    "import requests\n",
    "\n",
    "url = 'http://127.0.0.1:5000//api/news'\n",
    "\n",
    "# Dados da nova notícia em formato JSON\n",
    "new_news = {\n",
    "    \"source\": {\"name\": \"Projeto Modulo 4\"},\n",
    "    \"author\": \"Grupo 4\",\n",
    "    \"title\": \"Novo artigo adicionado\",\n",
    "    \"description\": \"Exemplo de notícia\",\n",
    "    \"url\": \"https://example.com/article\",\n",
    "    \"publishedAt\": \"2024-04-07T12:00:00Z\",\n",
    "    \"content\": \"Content of the new article\"\n",
    "}\n",
    "\n",
    "response = requests.post(url, json=new_news)"
   ]
  },
  {
   "cell_type": "markdown",
   "metadata": {},
   "source": [
    "<p align=\"center\">\n",
    "  <img src=\"images/code_results.gif\" alt=\"Alt Text\">\n",
    "</p>"
   ]
  }
 ],
 "metadata": {
  "kernelspec": {
   "display_name": ".venv",
   "language": "python",
   "name": "python3"
  },
  "language_info": {
   "codemirror_mode": {
    "name": "ipython",
    "version": 3
   },
   "file_extension": ".py",
   "mimetype": "text/x-python",
   "name": "python",
   "nbconvert_exporter": "python",
   "pygments_lexer": "ipython3",
   "version": "3.10.12"
  }
 },
 "nbformat": 4,
 "nbformat_minor": 2
}
